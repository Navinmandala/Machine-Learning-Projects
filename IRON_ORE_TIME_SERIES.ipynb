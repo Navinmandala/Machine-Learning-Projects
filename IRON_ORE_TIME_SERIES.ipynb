{
 "cells": [
  {
   "cell_type": "code",
   "execution_count": 1,
   "metadata": {},
   "outputs": [],
   "source": [
    "import os\n",
    "\n",
    "import pandas as pd \n",
    "import numpy as np \n",
    "import matplotlib.pyplot as plt\n",
    "import seaborn as sns\n",
    "import statsmodels.api as sm\n",
    "import statsmodels.formula.api as smf\n",
    "from statsmodels.tsa.stattools import adfuller\n",
    "%matplotlib inline\n",
    "from math import sqrt\n",
    "from statsmodels.tsa.arima_model import ARIMA\n",
    "from sklearn.metrics import mean_squared_error"
   ]
  },
  {
   "cell_type": "code",
   "execution_count": 2,
   "metadata": {},
   "outputs": [],
   "source": [
    "df=pd.read_csv('ironore2.csv')"
   ]
  },
  {
   "cell_type": "code",
   "execution_count": 3,
   "metadata": {},
   "outputs": [
    {
     "data": {
      "text/html": [
       "<div>\n",
       "<style scoped>\n",
       "    .dataframe tbody tr th:only-of-type {\n",
       "        vertical-align: middle;\n",
       "    }\n",
       "\n",
       "    .dataframe tbody tr th {\n",
       "        vertical-align: top;\n",
       "    }\n",
       "\n",
       "    .dataframe thead th {\n",
       "        text-align: right;\n",
       "    }\n",
       "</style>\n",
       "<table border=\"1\" class=\"dataframe\">\n",
       "  <thead>\n",
       "    <tr style=\"text-align: right;\">\n",
       "      <th></th>\n",
       "      <th>Month</th>\n",
       "      <th>Price</th>\n",
       "      <th>Change</th>\n",
       "    </tr>\n",
       "  </thead>\n",
       "  <tbody>\n",
       "    <tr>\n",
       "      <th>0</th>\n",
       "      <td>01-11-1991</td>\n",
       "      <td>34.76</td>\n",
       "      <td>-</td>\n",
       "    </tr>\n",
       "    <tr>\n",
       "      <th>1</th>\n",
       "      <td>01-12-1991</td>\n",
       "      <td>34.76</td>\n",
       "      <td>0.00%</td>\n",
       "    </tr>\n",
       "    <tr>\n",
       "      <th>2</th>\n",
       "      <td>01-01-1992</td>\n",
       "      <td>33.10</td>\n",
       "      <td>-4.78%</td>\n",
       "    </tr>\n",
       "    <tr>\n",
       "      <th>3</th>\n",
       "      <td>01-02-1992</td>\n",
       "      <td>33.10</td>\n",
       "      <td>0.00%</td>\n",
       "    </tr>\n",
       "    <tr>\n",
       "      <th>4</th>\n",
       "      <td>01-03-1992</td>\n",
       "      <td>33.10</td>\n",
       "      <td>0.00%</td>\n",
       "    </tr>\n",
       "    <tr>\n",
       "      <th>...</th>\n",
       "      <td>...</td>\n",
       "      <td>...</td>\n",
       "      <td>...</td>\n",
       "    </tr>\n",
       "    <tr>\n",
       "      <th>355</th>\n",
       "      <td>01-06-2021</td>\n",
       "      <td>214.43</td>\n",
       "      <td>3.23%</td>\n",
       "    </tr>\n",
       "    <tr>\n",
       "      <th>356</th>\n",
       "      <td>01-07-2021</td>\n",
       "      <td>214.14</td>\n",
       "      <td>-0.14%</td>\n",
       "    </tr>\n",
       "    <tr>\n",
       "      <th>357</th>\n",
       "      <td>01-08-2021</td>\n",
       "      <td>162.16</td>\n",
       "      <td>-24.27%</td>\n",
       "    </tr>\n",
       "    <tr>\n",
       "      <th>358</th>\n",
       "      <td>01-09-2021</td>\n",
       "      <td>124.52</td>\n",
       "      <td>-23.21%</td>\n",
       "    </tr>\n",
       "    <tr>\n",
       "      <th>359</th>\n",
       "      <td>01-10-2021</td>\n",
       "      <td>122.91</td>\n",
       "      <td>-1.29%</td>\n",
       "    </tr>\n",
       "  </tbody>\n",
       "</table>\n",
       "<p>360 rows × 3 columns</p>\n",
       "</div>"
      ],
      "text/plain": [
       "          Month   Price   Change\n",
       "0    01-11-1991   34.76        -\n",
       "1    01-12-1991   34.76    0.00%\n",
       "2    01-01-1992   33.10   -4.78%\n",
       "3    01-02-1992   33.10    0.00%\n",
       "4    01-03-1992   33.10    0.00%\n",
       "..          ...     ...      ...\n",
       "355  01-06-2021  214.43    3.23%\n",
       "356  01-07-2021  214.14   -0.14%\n",
       "357  01-08-2021  162.16  -24.27%\n",
       "358  01-09-2021  124.52  -23.21%\n",
       "359  01-10-2021  122.91   -1.29%\n",
       "\n",
       "[360 rows x 3 columns]"
      ]
     },
     "execution_count": 3,
     "metadata": {},
     "output_type": "execute_result"
    }
   ],
   "source": [
    "df"
   ]
  },
  {
   "cell_type": "code",
   "execution_count": 4,
   "metadata": {},
   "outputs": [],
   "source": [
    "df.sort_values('Month',ascending=True,inplace=True)"
   ]
  },
  {
   "cell_type": "code",
   "execution_count": 5,
   "metadata": {},
   "outputs": [
    {
     "data": {
      "text/html": [
       "<div>\n",
       "<style scoped>\n",
       "    .dataframe tbody tr th:only-of-type {\n",
       "        vertical-align: middle;\n",
       "    }\n",
       "\n",
       "    .dataframe tbody tr th {\n",
       "        vertical-align: top;\n",
       "    }\n",
       "\n",
       "    .dataframe thead th {\n",
       "        text-align: right;\n",
       "    }\n",
       "</style>\n",
       "<table border=\"1\" class=\"dataframe\">\n",
       "  <thead>\n",
       "    <tr style=\"text-align: right;\">\n",
       "      <th></th>\n",
       "      <th>Month</th>\n",
       "      <th>Price</th>\n",
       "      <th>Change</th>\n",
       "    </tr>\n",
       "  </thead>\n",
       "  <tbody>\n",
       "    <tr>\n",
       "      <th>301</th>\n",
       "      <td>01-12-2016</td>\n",
       "      <td>80.02</td>\n",
       "      <td>9.47%</td>\n",
       "    </tr>\n",
       "    <tr>\n",
       "      <th>313</th>\n",
       "      <td>01-12-2017</td>\n",
       "      <td>72.25</td>\n",
       "      <td>12.47%</td>\n",
       "    </tr>\n",
       "    <tr>\n",
       "      <th>325</th>\n",
       "      <td>01-12-2018</td>\n",
       "      <td>69.16</td>\n",
       "      <td>-5.60%</td>\n",
       "    </tr>\n",
       "    <tr>\n",
       "      <th>337</th>\n",
       "      <td>01-12-2019</td>\n",
       "      <td>92.65</td>\n",
       "      <td>9.03%</td>\n",
       "    </tr>\n",
       "    <tr>\n",
       "      <th>349</th>\n",
       "      <td>01-12-2020</td>\n",
       "      <td>155.43</td>\n",
       "      <td>24.98%</td>\n",
       "    </tr>\n",
       "  </tbody>\n",
       "</table>\n",
       "</div>"
      ],
      "text/plain": [
       "          Month   Price  Change\n",
       "301  01-12-2016   80.02   9.47%\n",
       "313  01-12-2017   72.25  12.47%\n",
       "325  01-12-2018   69.16  -5.60%\n",
       "337  01-12-2019   92.65   9.03%\n",
       "349  01-12-2020  155.43  24.98%"
      ]
     },
     "execution_count": 5,
     "metadata": {},
     "output_type": "execute_result"
    }
   ],
   "source": [
    "df.tail()"
   ]
  },
  {
   "cell_type": "code",
   "execution_count": 6,
   "metadata": {},
   "outputs": [
    {
     "data": {
      "text/plain": [
       "2      01-01-1992\n",
       "14     01-01-1993\n",
       "26     01-01-1994\n",
       "38     01-01-1995\n",
       "50     01-01-1996\n",
       "          ...    \n",
       "301    01-12-2016\n",
       "313    01-12-2017\n",
       "325    01-12-2018\n",
       "337    01-12-2019\n",
       "349    01-12-2020\n",
       "Name: Month, Length: 360, dtype: object"
      ]
     },
     "execution_count": 6,
     "metadata": {},
     "output_type": "execute_result"
    }
   ],
   "source": [
    "df.Month"
   ]
  },
  {
   "cell_type": "code",
   "execution_count": 7,
   "metadata": {},
   "outputs": [
    {
     "data": {
      "text/html": [
       "<div>\n",
       "<style scoped>\n",
       "    .dataframe tbody tr th:only-of-type {\n",
       "        vertical-align: middle;\n",
       "    }\n",
       "\n",
       "    .dataframe tbody tr th {\n",
       "        vertical-align: top;\n",
       "    }\n",
       "\n",
       "    .dataframe thead th {\n",
       "        text-align: right;\n",
       "    }\n",
       "</style>\n",
       "<table border=\"1\" class=\"dataframe\">\n",
       "  <thead>\n",
       "    <tr style=\"text-align: right;\">\n",
       "      <th></th>\n",
       "      <th>Price</th>\n",
       "    </tr>\n",
       "  </thead>\n",
       "  <tbody>\n",
       "    <tr>\n",
       "      <th>count</th>\n",
       "      <td>360.000000</td>\n",
       "    </tr>\n",
       "    <tr>\n",
       "      <th>mean</th>\n",
       "      <td>72.325806</td>\n",
       "    </tr>\n",
       "    <tr>\n",
       "      <th>std</th>\n",
       "      <td>49.369634</td>\n",
       "    </tr>\n",
       "    <tr>\n",
       "      <th>min</th>\n",
       "      <td>26.470000</td>\n",
       "    </tr>\n",
       "    <tr>\n",
       "      <th>25%</th>\n",
       "      <td>30.030000</td>\n",
       "    </tr>\n",
       "    <tr>\n",
       "      <th>50%</th>\n",
       "      <td>62.045000</td>\n",
       "    </tr>\n",
       "    <tr>\n",
       "      <th>75%</th>\n",
       "      <td>99.640000</td>\n",
       "    </tr>\n",
       "    <tr>\n",
       "      <th>max</th>\n",
       "      <td>214.430000</td>\n",
       "    </tr>\n",
       "  </tbody>\n",
       "</table>\n",
       "</div>"
      ],
      "text/plain": [
       "            Price\n",
       "count  360.000000\n",
       "mean    72.325806\n",
       "std     49.369634\n",
       "min     26.470000\n",
       "25%     30.030000\n",
       "50%     62.045000\n",
       "75%     99.640000\n",
       "max    214.430000"
      ]
     },
     "execution_count": 7,
     "metadata": {},
     "output_type": "execute_result"
    }
   ],
   "source": [
    "df.describe()"
   ]
  },
  {
   "cell_type": "code",
   "execution_count": 8,
   "metadata": {},
   "outputs": [
    {
     "data": {
      "text/plain": [
       "count       360\n",
       "unique      202\n",
       "top       0.00%\n",
       "freq        157\n",
       "Name: Change, dtype: object"
      ]
     },
     "execution_count": 8,
     "metadata": {},
     "output_type": "execute_result"
    }
   ],
   "source": [
    "df.Change.describe()"
   ]
  },
  {
   "cell_type": "code",
   "execution_count": 9,
   "metadata": {},
   "outputs": [
    {
     "data": {
      "text/plain": [
       "Month     0\n",
       "Price     0\n",
       "Change    0\n",
       "dtype: int64"
      ]
     },
     "execution_count": 9,
     "metadata": {},
     "output_type": "execute_result"
    }
   ],
   "source": [
    "df.isna().sum()"
   ]
  },
  {
   "cell_type": "code",
   "execution_count": 10,
   "metadata": {},
   "outputs": [
    {
     "data": {
      "text/plain": [
       "(array([160.,  24.,  60.,  28.,  15.,  25.,  17.,  11.,  15.,   5.]),\n",
       " array([ 26.47 ,  45.266,  64.062,  82.858, 101.654, 120.45 , 139.246,\n",
       "        158.042, 176.838, 195.634, 214.43 ]),\n",
       " <BarContainer object of 10 artists>)"
      ]
     },
     "execution_count": 10,
     "metadata": {},
     "output_type": "execute_result"
    },
    {
     "data": {
      "image/png": "[encoded data removed]",
      "text/plain": [
       "<Figure size 432x288 with 1 Axes>"
      ]
     },
     "metadata": {
      "needs_background": "light"
     },
     "output_type": "display_data"
    }
   ],
   "source": [
    "plt.hist(df.Price)"
   ]
  },
  {
   "cell_type": "code",
   "execution_count": 11,
   "metadata": {},
   "outputs": [],
   "source": [
    "# changing month variable type to datatime dtype"
   ]
  },
  {
   "cell_type": "code",
   "execution_count": 12,
   "metadata": {},
   "outputs": [],
   "source": [
    "df['Month'] = pd.to_datetime(df['Month'])\n",
    "df['year'] = pd.DatetimeIndex(df['Month']).year\n",
    "df['month'] = pd.DatetimeIndex(df['Month']).month"
   ]
  },
  {
   "cell_type": "code",
   "execution_count": 13,
   "metadata": {},
   "outputs": [
    {
     "data": {
      "text/plain": [
       "2     1992-01-01\n",
       "14    1993-01-01\n",
       "26    1994-01-01\n",
       "38    1995-01-01\n",
       "50    1996-01-01\n",
       "         ...    \n",
       "301   2016-01-12\n",
       "313   2017-01-12\n",
       "325   2018-01-12\n",
       "337   2019-01-12\n",
       "349   2020-01-12\n",
       "Name: Month, Length: 360, dtype: datetime64[ns]"
      ]
     },
     "execution_count": 13,
     "metadata": {},
     "output_type": "execute_result"
    }
   ],
   "source": [
    "df[\"Month\"]\n"
   ]
  },
  {
   "cell_type": "code",
   "execution_count": 14,
   "metadata": {},
   "outputs": [
    {
     "data": {
      "text/html": [
       "<div>\n",
       "<style scoped>\n",
       "    .dataframe tbody tr th:only-of-type {\n",
       "        vertical-align: middle;\n",
       "    }\n",
       "\n",
       "    .dataframe tbody tr th {\n",
       "        vertical-align: top;\n",
       "    }\n",
       "\n",
       "    .dataframe thead th {\n",
       "        text-align: right;\n",
       "    }\n",
       "</style>\n",
       "<table border=\"1\" class=\"dataframe\">\n",
       "  <thead>\n",
       "    <tr style=\"text-align: right;\">\n",
       "      <th></th>\n",
       "      <th>Month</th>\n",
       "      <th>Price</th>\n",
       "      <th>Change</th>\n",
       "      <th>year</th>\n",
       "      <th>month</th>\n",
       "    </tr>\n",
       "  </thead>\n",
       "  <tbody>\n",
       "    <tr>\n",
       "      <th>0</th>\n",
       "      <td>1991-01-11</td>\n",
       "      <td>34.76</td>\n",
       "      <td>-</td>\n",
       "      <td>1991</td>\n",
       "      <td>1</td>\n",
       "    </tr>\n",
       "    <tr>\n",
       "      <th>1</th>\n",
       "      <td>1991-01-12</td>\n",
       "      <td>34.76</td>\n",
       "      <td>0.00%</td>\n",
       "      <td>1991</td>\n",
       "      <td>1</td>\n",
       "    </tr>\n",
       "    <tr>\n",
       "      <th>2</th>\n",
       "      <td>1992-01-01</td>\n",
       "      <td>33.10</td>\n",
       "      <td>-4.78%</td>\n",
       "      <td>1992</td>\n",
       "      <td>1</td>\n",
       "    </tr>\n",
       "    <tr>\n",
       "      <th>3</th>\n",
       "      <td>1992-01-02</td>\n",
       "      <td>33.10</td>\n",
       "      <td>0.00%</td>\n",
       "      <td>1992</td>\n",
       "      <td>1</td>\n",
       "    </tr>\n",
       "    <tr>\n",
       "      <th>4</th>\n",
       "      <td>1992-01-03</td>\n",
       "      <td>33.10</td>\n",
       "      <td>0.00%</td>\n",
       "      <td>1992</td>\n",
       "      <td>1</td>\n",
       "    </tr>\n",
       "  </tbody>\n",
       "</table>\n",
       "</div>"
      ],
      "text/plain": [
       "       Month  Price  Change  year  month\n",
       "0 1991-01-11  34.76       -  1991      1\n",
       "1 1991-01-12  34.76   0.00%  1991      1\n",
       "2 1992-01-01  33.10  -4.78%  1992      1\n",
       "3 1992-01-02  33.10   0.00%  1992      1\n",
       "4 1992-01-03  33.10   0.00%  1992      1"
      ]
     },
     "execution_count": 14,
     "metadata": {},
     "output_type": "execute_result"
    }
   ],
   "source": [
    "df.sort_values('Month',ascending=True,inplace=True)\n",
    "df.head()"
   ]
  },
  {
   "cell_type": "code",
   "execution_count": null,
   "metadata": {},
   "outputs": [],
   "source": []
  },
  {
   "cell_type": "code",
   "execution_count": 15,
   "metadata": {},
   "outputs": [
    {
     "data": {
      "text/plain": [
       "[<matplotlib.lines.Line2D at 0x19415acddc0>]"
      ]
     },
     "execution_count": 15,
     "metadata": {},
     "output_type": "execute_result"
    },
    {
     "data": {
      "image/png": "[encoded data removed]",
      "text/plain": [
       "<Figure size 432x288 with 1 Axes>"
      ]
     },
     "metadata": {
      "needs_background": "light"
     },
     "output_type": "display_data"
    }
   ],
   "source": [
    "plt.plot(df.Price,'b')"
   ]
  },
  {
   "cell_type": "code",
   "execution_count": 16,
   "metadata": {},
   "outputs": [
    {
     "data": {
      "text/plain": [
       "0.00%      157\n",
       "-1.60%       2\n",
       "-7.47%       2\n",
       "1.35%        1\n",
       "0.53%        1\n",
       "          ... \n",
       "-1.53%       1\n",
       "-24.27%      1\n",
       "4.25%        1\n",
       "4.46%        1\n",
       "-0.14%       1\n",
       "Name: Change, Length: 202, dtype: int64"
      ]
     },
     "execution_count": 16,
     "metadata": {},
     "output_type": "execute_result"
    }
   ],
   "source": [
    "df.Change.value_counts()"
   ]
  },
  {
   "cell_type": "code",
   "execution_count": 17,
   "metadata": {},
   "outputs": [
    {
     "data": {
      "text/plain": [
       "count       360\n",
       "unique      202\n",
       "top       0.00%\n",
       "freq        157\n",
       "Name: Change, dtype: object"
      ]
     },
     "execution_count": 17,
     "metadata": {},
     "output_type": "execute_result"
    }
   ],
   "source": [
    "df.Change.describe()"
   ]
  },
  {
   "cell_type": "code",
   "execution_count": 18,
   "metadata": {},
   "outputs": [
    {
     "data": {
      "text/html": [
       "<div>\n",
       "<style scoped>\n",
       "    .dataframe tbody tr th:only-of-type {\n",
       "        vertical-align: middle;\n",
       "    }\n",
       "\n",
       "    .dataframe tbody tr th {\n",
       "        vertical-align: top;\n",
       "    }\n",
       "\n",
       "    .dataframe thead th {\n",
       "        text-align: right;\n",
       "    }\n",
       "</style>\n",
       "<table border=\"1\" class=\"dataframe\">\n",
       "  <thead>\n",
       "    <tr style=\"text-align: right;\">\n",
       "      <th></th>\n",
       "      <th>Price</th>\n",
       "      <th>Change</th>\n",
       "      <th>year</th>\n",
       "      <th>month</th>\n",
       "    </tr>\n",
       "    <tr>\n",
       "      <th>Month</th>\n",
       "      <th></th>\n",
       "      <th></th>\n",
       "      <th></th>\n",
       "      <th></th>\n",
       "    </tr>\n",
       "  </thead>\n",
       "  <tbody>\n",
       "    <tr>\n",
       "      <th>1991-01-11</th>\n",
       "      <td>34.76</td>\n",
       "      <td>-</td>\n",
       "      <td>1991</td>\n",
       "      <td>1</td>\n",
       "    </tr>\n",
       "    <tr>\n",
       "      <th>1991-01-12</th>\n",
       "      <td>34.76</td>\n",
       "      <td>0.00%</td>\n",
       "      <td>1991</td>\n",
       "      <td>1</td>\n",
       "    </tr>\n",
       "    <tr>\n",
       "      <th>1992-01-01</th>\n",
       "      <td>33.10</td>\n",
       "      <td>-4.78%</td>\n",
       "      <td>1992</td>\n",
       "      <td>1</td>\n",
       "    </tr>\n",
       "    <tr>\n",
       "      <th>1992-01-02</th>\n",
       "      <td>33.10</td>\n",
       "      <td>0.00%</td>\n",
       "      <td>1992</td>\n",
       "      <td>1</td>\n",
       "    </tr>\n",
       "    <tr>\n",
       "      <th>1992-01-03</th>\n",
       "      <td>33.10</td>\n",
       "      <td>0.00%</td>\n",
       "      <td>1992</td>\n",
       "      <td>1</td>\n",
       "    </tr>\n",
       "  </tbody>\n",
       "</table>\n",
       "</div>"
      ],
      "text/plain": [
       "            Price  Change  year  month\n",
       "Month                                 \n",
       "1991-01-11  34.76       -  1991      1\n",
       "1991-01-12  34.76   0.00%  1991      1\n",
       "1992-01-01  33.10  -4.78%  1992      1\n",
       "1992-01-02  33.10   0.00%  1992      1\n",
       "1992-01-03  33.10   0.00%  1992      1"
      ]
     },
     "execution_count": 18,
     "metadata": {},
     "output_type": "execute_result"
    }
   ],
   "source": [
    "df = df.set_index('Month')\n",
    "df.head()"
   ]
  },
  {
   "cell_type": "code",
   "execution_count": 19,
   "metadata": {},
   "outputs": [
    {
     "data": {
      "image/png": "[encoded data removed]",
      "text/plain": [
       "<Figure size 432x288 with 1 Axes>"
      ]
     },
     "metadata": {
      "needs_background": "light"
     },
     "output_type": "display_data"
    }
   ],
   "source": [
    "plt.plot(df.Price.resample('M').count())\n",
    "plt.xticks(rotation=45)\n",
    "plt.title('prices Monthly wise')\n",
    "plt.xlabel('Months')\n",
    "plt.ylabel('count')\n",
    "plt.show()"
   ]
  },
  {
   "cell_type": "code",
   "execution_count": 20,
   "metadata": {},
   "outputs": [
    {
     "data": {
      "image/png": "[encoded data removed]",
      "text/plain": [
       "<Figure size 432x288 with 1 Axes>"
      ]
     },
     "metadata": {
      "needs_background": "light"
     },
     "output_type": "display_data"
    }
   ],
   "source": [
    "plt.plot(df.Price.resample('Y').count())\n",
    "plt.xticks(rotation=45)\n",
    "plt.title('prices year wise')\n",
    "plt.xlabel('Months')\n",
    "plt.ylabel('count')\n",
    "plt.show()"
   ]
  },
  {
   "cell_type": "code",
   "execution_count": 21,
   "metadata": {},
   "outputs": [
    {
     "data": {
      "text/plain": [
       "(array([160.,  24.,  60.,  28.,  15.,  25.,  17.,  11.,  15.,   5.]),\n",
       " array([ 26.47 ,  45.266,  64.062,  82.858, 101.654, 120.45 , 139.246,\n",
       "        158.042, 176.838, 195.634, 214.43 ]),\n",
       " <BarContainer object of 10 artists>)"
      ]
     },
     "execution_count": 21,
     "metadata": {},
     "output_type": "execute_result"
    },
    {
     "data": {
      "image/png": "[encoded data removed]",
      "text/plain": [
       "<Figure size 432x288 with 1 Axes>"
      ]
     },
     "metadata": {
      "needs_background": "light"
     },
     "output_type": "display_data"
    }
   ],
   "source": [
    "plt.hist(df.Price)"
   ]
  },
  {
   "cell_type": "code",
   "execution_count": 22,
   "metadata": {},
   "outputs": [
    {
     "data": {
      "image/png": "[encoded data removed]",
      "text/plain": [
       "<Figure size 432x288 with 1 Axes>"
      ]
     },
     "metadata": {
      "needs_background": "light"
     },
     "output_type": "display_data"
    }
   ],
   "source": [
    "plt.plot(df.Change.resample('M').count())\n",
    "plt.xticks(rotation=45)\n",
    "plt.title('prices Monthly wise')\n",
    "plt.xlabel('Months')\n",
    "plt.ylabel('count')\n",
    "plt.show()"
   ]
  },
  {
   "cell_type": "code",
   "execution_count": 23,
   "metadata": {},
   "outputs": [],
   "source": [
    "df1=df.Price"
   ]
  },
  {
   "cell_type": "code",
   "execution_count": 24,
   "metadata": {},
   "outputs": [],
   "source": [
    "df1=pd.DataFrame(df1)"
   ]
  },
  {
   "cell_type": "code",
   "execution_count": 25,
   "metadata": {},
   "outputs": [
    {
     "data": {
      "text/plain": [
       "[<matplotlib.lines.Line2D at 0x19415c9bcd0>]"
      ]
     },
     "execution_count": 25,
     "metadata": {},
     "output_type": "execute_result"
    },
    {
     "data": {
      "image/png": "[encoded data removed]",
      "text/plain": [
       "<Figure size 432x288 with 1 Axes>"
      ]
     },
     "metadata": {
      "needs_background": "light"
     },
     "output_type": "display_data"
    }
   ],
   "source": [
    "plt.plot(df1)"
   ]
  },
  {
   "cell_type": "code",
   "execution_count": 26,
   "metadata": {},
   "outputs": [
    {
     "data": {
      "text/plain": [
       "Text(0.5, 1.0, 'Histogram of df1 Data')"
      ]
     },
     "execution_count": 26,
     "metadata": {},
     "output_type": "execute_result"
    },
    {
     "data": {
      "image/png": "[encoded data removed]",
      "text/plain": [
       "<Figure size 432x288 with 1 Axes>"
      ]
     },
     "metadata": {
      "needs_background": "light"
     },
     "output_type": "display_data"
    }
   ],
   "source": [
    "df1.plot(kind='hist',facecolor='b')\n",
    "plt.title('Histogram of df1 Data')"
   ]
  },
  {
   "cell_type": "code",
   "execution_count": 27,
   "metadata": {},
   "outputs": [
    {
     "data": {
      "text/plain": [
       "Text(0.5, 1.0, 'Density plot of df1 Data')"
      ]
     },
     "execution_count": 27,
     "metadata": {},
     "output_type": "execute_result"
    },
    {
     "data": {
      "image/png": "[encoded data removed]",
      "text/plain": [
       "<Figure size 432x288 with 1 Axes>"
      ]
     },
     "metadata": {
      "needs_background": "light"
     },
     "output_type": "display_data"
    }
   ],
   "source": [
    "df1.plot(kind='kde',color='b')\n",
    "plt.title('Density plot of df1 Data')"
   ]
  },
  {
   "cell_type": "code",
   "execution_count": 28,
   "metadata": {},
   "outputs": [
    {
     "data": {
      "text/plain": [
       "Text(0.5, 1.0, 'Boxplot of ironore Data')"
      ]
     },
     "execution_count": 28,
     "metadata": {},
     "output_type": "execute_result"
    },
    {
     "data": {
      "image/png": "[encoded data removed]",
      "text/plain": [
       "<Figure size 432x288 with 1 Axes>"
      ]
     },
     "metadata": {
      "needs_background": "light"
     },
     "output_type": "display_data"
    }
   ],
   "source": [
    "props2=dict(boxes='red',whiskers='green',medians='black',caps='blue')\n",
    "df1.plot.box(color=props2,patch_artist=True,vert=False)\n",
    "plt.title('Boxplot of ironore Data')"
   ]
  },
  {
   "cell_type": "code",
   "execution_count": 29,
   "metadata": {},
   "outputs": [],
   "source": [
    "from statsmodels.tsa.seasonal import seasonal_decompose\n",
    "decom=seasonal_decompose(df1,period=1,model='mul')"
   ]
  },
  {
   "cell_type": "code",
   "execution_count": 30,
   "metadata": {},
   "outputs": [
    {
     "data": {
      "image/png": "[encoded data removed]",
      "text/plain": [
       "<Figure size 432x288 with 4 Axes>"
      ]
     },
     "execution_count": 30,
     "metadata": {},
     "output_type": "execute_result"
    },
    {
     "data": {
      "image/png": "[encoded data removed]",
      "text/plain": [
       "<Figure size 432x288 with 4 Axes>"
      ]
     },
     "metadata": {
      "needs_background": "light"
     },
     "output_type": "display_data"
    }
   ],
   "source": [
    "decom.plot()"
   ]
  },
  {
   "cell_type": "code",
   "execution_count": 31,
   "metadata": {},
   "outputs": [],
   "source": [
    "from statsmodels.tsa.seasonal import seasonal_decompose\n",
    "decoma=seasonal_decompose(df1,period=1,model='add')"
   ]
  },
  {
   "cell_type": "code",
   "execution_count": 32,
   "metadata": {},
   "outputs": [
    {
     "data": {
      "image/png": "[encoded data removed]",
      "text/plain": [
       "<Figure size 432x288 with 4 Axes>"
      ]
     },
     "execution_count": 32,
     "metadata": {},
     "output_type": "execute_result"
    },
    {
     "data": {
      "image/png": "[encoded data removed]",
      "text/plain": [
       "<Figure size 432x288 with 4 Axes>"
      ]
     },
     "metadata": {
      "needs_background": "light"
     },
     "output_type": "display_data"
    }
   ],
   "source": [
    "decoma.plot()"
   ]
  },
  {
   "cell_type": "code",
   "execution_count": 33,
   "metadata": {},
   "outputs": [],
   "source": [
    "from statsmodels.tsa.stattools import adfuller\n",
    "df1_adf=adfuller(df1)"
   ]
  },
  {
   "cell_type": "code",
   "execution_count": 34,
   "metadata": {},
   "outputs": [
    {
     "data": {
      "text/plain": [
       "(-2.08071630165627,\n",
       " 0.2523390317583961,\n",
       " 2,\n",
       " 357,\n",
       " {'1%': -3.44880082033912,\n",
       "  '5%': -2.869670179576637,\n",
       "  '10%': -2.5711012838861036},\n",
       " 2408.6137545944557)"
      ]
     },
     "execution_count": 34,
     "metadata": {},
     "output_type": "execute_result"
    }
   ],
   "source": [
    "df1_adf"
   ]
  },
  {
   "cell_type": "code",
   "execution_count": 35,
   "metadata": {},
   "outputs": [],
   "source": [
    "# data is not sationary "
   ]
  },
  {
   "cell_type": "code",
   "execution_count": 36,
   "metadata": {},
   "outputs": [
    {
     "name": "stdout",
     "output_type": "stream",
     "text": [
      "Requirement already satisfied: pmdarima in c:\\users\\saina\\anaconda3\\lib\\site-packages (1.8.4)\n",
      "Requirement already satisfied: scikit-learn>=0.22 in c:\\users\\saina\\anaconda3\\lib\\site-packages (from pmdarima) (0.23.2)\n",
      "Requirement already satisfied: urllib3 in c:\\users\\saina\\anaconda3\\lib\\site-packages (from pmdarima) (1.25.11)\n",
      "Requirement already satisfied: setuptools!=50.0.0,>=38.6.0 in c:\\users\\saina\\anaconda3\\lib\\site-packages (from pmdarima) (50.3.1.post20201107)\n",
      "Requirement already satisfied: joblib>=0.11 in c:\\users\\saina\\anaconda3\\lib\\site-packages (from pmdarima) (0.17.0)\n",
      "Requirement already satisfied: pandas>=0.19 in c:\\users\\saina\\anaconda3\\lib\\site-packages (from pmdarima) (1.1.3)\n",
      "Requirement already satisfied: statsmodels!=0.12.0,>=0.11 in c:\\users\\saina\\anaconda3\\lib\\site-packages (from pmdarima) (0.13.1)\n",
      "Requirement already satisfied: numpy>=1.19.3 in c:\\users\\saina\\anaconda3\\lib\\site-packages (from pmdarima) (1.21.4)\n",
      "Requirement already satisfied: scipy>=1.3.2 in c:\\users\\saina\\anaconda3\\lib\\site-packages (from pmdarima) (1.5.2)\n",
      "Requirement already satisfied: Cython!=0.29.18,>=0.29 in c:\\users\\saina\\anaconda3\\lib\\site-packages (from pmdarima) (0.29.21)\n",
      "Requirement already satisfied: threadpoolctl>=2.0.0 in c:\\users\\saina\\anaconda3\\lib\\site-packages (from scikit-learn>=0.22->pmdarima) (2.1.0)\n",
      "Requirement already satisfied: pytz>=2017.2 in c:\\users\\saina\\anaconda3\\lib\\site-packages (from pandas>=0.19->pmdarima) (2020.1)\n",
      "Requirement already satisfied: python-dateutil>=2.7.3 in c:\\users\\saina\\anaconda3\\lib\\site-packages (from pandas>=0.19->pmdarima) (2.8.1)\n",
      "Requirement already satisfied: patsy>=0.5.2 in c:\\users\\saina\\anaconda3\\lib\\site-packages (from statsmodels!=0.12.0,>=0.11->pmdarima) (0.5.2)\n",
      "Requirement already satisfied: six>=1.5 in c:\\users\\saina\\anaconda3\\lib\\site-packages (from python-dateutil>=2.7.3->pandas>=0.19->pmdarima) (1.15.0)\n"
     ]
    }
   ],
   "source": [
    "!pip install pmdarima\n"
   ]
  },
  {
   "cell_type": "code",
   "execution_count": 37,
   "metadata": {},
   "outputs": [
    {
     "data": {
      "text/html": [
       "<table class=\"simpletable\">\n",
       "<caption>SARIMAX Results</caption>\n",
       "<tr>\n",
       "  <th>Dep. Variable:</th>           <td>y</td>        <th>  No. Observations:  </th>    <td>360</td>   \n",
       "</tr>\n",
       "<tr>\n",
       "  <th>Model:</th>           <td>SARIMAX(0, 1, 1)</td> <th>  Log Likelihood     </th> <td>-1254.675</td>\n",
       "</tr>\n",
       "<tr>\n",
       "  <th>Date:</th>            <td>Mon, 20 Dec 2021</td> <th>  AIC                </th> <td>2513.351</td> \n",
       "</tr>\n",
       "<tr>\n",
       "  <th>Time:</th>                <td>04:19:38</td>     <th>  BIC                </th> <td>2521.117</td> \n",
       "</tr>\n",
       "<tr>\n",
       "  <th>Sample:</th>                  <td>0</td>        <th>  HQIC               </th> <td>2516.439</td> \n",
       "</tr>\n",
       "<tr>\n",
       "  <th></th>                      <td> - 360</td>      <th>                     </th>     <td> </td>    \n",
       "</tr>\n",
       "<tr>\n",
       "  <th>Covariance Type:</th>        <td>opg</td>       <th>                     </th>     <td> </td>    \n",
       "</tr>\n",
       "</table>\n",
       "<table class=\"simpletable\">\n",
       "<tr>\n",
       "     <td></td>       <th>coef</th>     <th>std err</th>      <th>z</th>      <th>P>|z|</th>  <th>[0.025</th>    <th>0.975]</th>  \n",
       "</tr>\n",
       "<tr>\n",
       "  <th>ma.L1</th>  <td>    0.4008</td> <td>    0.028</td> <td>   14.213</td> <td> 0.000</td> <td>    0.346</td> <td>    0.456</td>\n",
       "</tr>\n",
       "<tr>\n",
       "  <th>sigma2</th> <td>   63.5258</td> <td>    2.018</td> <td>   31.478</td> <td> 0.000</td> <td>   59.570</td> <td>   67.481</td>\n",
       "</tr>\n",
       "</table>\n",
       "<table class=\"simpletable\">\n",
       "<tr>\n",
       "  <th>Ljung-Box (L1) (Q):</th>      <td>0.15</td>  <th>  Jarque-Bera (JB):  </th> <td>1367.32</td>\n",
       "</tr>\n",
       "<tr>\n",
       "  <th>Prob(Q):</th>                 <td>0.69</td>  <th>  Prob(JB):          </th>  <td>0.00</td>  \n",
       "</tr>\n",
       "<tr>\n",
       "  <th>Heteroskedasticity (H):</th> <td>190.58</td> <th>  Skew:              </th>  <td>-1.09</td> \n",
       "</tr>\n",
       "<tr>\n",
       "  <th>Prob(H) (two-sided):</th>     <td>0.00</td>  <th>  Kurtosis:          </th>  <td>12.31</td> \n",
       "</tr>\n",
       "</table><br/><br/>Warnings:<br/>[1] Covariance matrix calculated using the outer product of gradients (complex-step)."
      ],
      "text/plain": [
       "<class 'statsmodels.iolib.summary.Summary'>\n",
       "\"\"\"\n",
       "                               SARIMAX Results                                \n",
       "==============================================================================\n",
       "Dep. Variable:                      y   No. Observations:                  360\n",
       "Model:               SARIMAX(0, 1, 1)   Log Likelihood               -1254.675\n",
       "Date:                Mon, 20 Dec 2021   AIC                           2513.351\n",
       "Time:                        04:19:38   BIC                           2521.117\n",
       "Sample:                             0   HQIC                          2516.439\n",
       "                                - 360                                         \n",
       "Covariance Type:                  opg                                         \n",
       "==============================================================================\n",
       "                 coef    std err          z      P>|z|      [0.025      0.975]\n",
       "------------------------------------------------------------------------------\n",
       "ma.L1          0.4008      0.028     14.213      0.000       0.346       0.456\n",
       "sigma2        63.5258      2.018     31.478      0.000      59.570      67.481\n",
       "===================================================================================\n",
       "Ljung-Box (L1) (Q):                   0.15   Jarque-Bera (JB):              1367.32\n",
       "Prob(Q):                              0.69   Prob(JB):                         0.00\n",
       "Heteroskedasticity (H):             190.58   Skew:                            -1.09\n",
       "Prob(H) (two-sided):                  0.00   Kurtosis:                        12.31\n",
       "===================================================================================\n",
       "\n",
       "Warnings:\n",
       "[1] Covariance matrix calculated using the outer product of gradients (complex-step).\n",
       "\"\"\""
      ]
     },
     "execution_count": 37,
     "metadata": {},
     "output_type": "execute_result"
    }
   ],
   "source": [
    "from pmdarima import auto_arima \n",
    "model = auto_arima(df1)\n",
    "model.summary()"
   ]
  },
  {
   "cell_type": "code",
   "execution_count": 38,
   "metadata": {},
   "outputs": [
    {
     "data": {
      "text/plain": [
       "array([ 3.47600000e+01, -8.85013932e-04, -1.65969437e+00,  6.50771272e-01,\n",
       "       -2.59935223e-01,  1.04129581e-01, -4.17337131e-02,  1.67275632e-02,\n",
       "       -6.70476547e-03,  2.68741879e-03, -1.07717742e-03,  4.31756772e-04,\n",
       "       -1.73057760e-04,  6.93654163e-05, -4.01002780e+00,  1.60730873e+00,\n",
       "       -6.44245247e-01,  2.58227888e-01, -1.03503506e-01,  4.14865177e-02,\n",
       "       -1.66287231e-02,  6.66516373e-03, -2.67154653e-03,  1.07081553e-03,\n",
       "       -4.29206788e-04,  1.72035669e-04, -2.62006896e+00,  1.05018217e+00,\n",
       "       -4.20936476e-01,  1.68720744e-01, -6.76270434e-02,  2.71064298e-02,\n",
       "       -1.08648626e-02,  4.35487968e-03, -1.74553307e-03,  6.99648649e-04,\n",
       "       -2.80434809e-04,  1.12404537e-04,  1.90995495e+00, -7.65552612e-01,\n",
       "        3.06850590e-01, -1.22992572e-01,  4.92981704e-02, -1.97598081e-02,\n",
       "        7.92017252e-03, -3.17458209e-03,  1.27244342e-03, -5.10023751e-04,\n",
       "        2.04428914e-04, -8.19396757e-05,  1.62003284e+00, -6.49345356e-01,\n",
       "        2.60272126e-01, -1.04322883e-01,  4.18149420e-02, -1.67603629e-02,\n",
       "        6.71792789e-03, -2.69269558e-03,  1.07929255e-03, -4.32604565e-04,\n",
       "        1.73397574e-04, -6.95016215e-05,  1.50027858e-01, -6.01345171e-02,\n",
       "        2.41032579e-02, -9.66112425e-03,  3.87239444e-03, -1.55214220e-03,\n",
       "        6.22133270e-04, -2.49364914e-04,  9.99510283e-05, -4.00626051e-05,\n",
       "        1.60579872e-05, -6.43640000e-06,  8.50002580e-01, -3.40700024e-01,\n",
       "        1.36560181e-01, -5.47363714e-02,  2.19395605e-02, -8.79386599e-03,\n",
       "        3.52477795e-03, -1.41280975e-03,  5.66285710e-04, -2.26979964e-04,\n",
       "        9.09786403e-05, -3.64662716e-05, -3.40998538e+00,  1.36679832e+00,\n",
       "       -5.47843303e-01,  2.19587835e-01, -8.80157100e-02,  3.52786629e-02,\n",
       "       -1.41404762e-02,  5.66781878e-03, -2.27178839e-03,  9.10583540e-04,\n",
       "       -3.64982226e-04,  1.46293030e-04,  1.19994136e+00, -4.80963306e-01,\n",
       "        1.92780838e-01, -7.72708667e-02,  3.09718896e-02, -1.24142253e-02,\n",
       "        4.97589884e-03, -1.99445142e-03,  7.99420687e-04, -3.20425671e-04,\n",
       "        1.28433767e-04, -5.14791233e-05,  1.24002063e+00, -4.97027973e-01,\n",
       "        1.99219915e-01, -7.98517928e-02,  3.20063825e-02, -1.28288732e-02,\n",
       "        5.14209896e-03, -2.06106814e-03,  8.26122157e-04, -3.31128217e-04,\n",
       "        1.32723587e-04, -5.31985788e-05, -7.19978677e-01,  2.88583538e-01,\n",
       "       -1.15670729e-01,  4.63634125e-02, -1.85834915e-02,  7.44867857e-03,\n",
       "       -2.98559678e-03,  1.19669389e-03, -4.79661645e-04,  1.92259103e-04,\n",
       "       -7.70617439e-05,  3.08880685e-05,  2.63998762e+00, -1.05816602e+00,\n",
       "        4.24136580e-01, -1.70003417e-01,  6.81411674e-02, -2.73125022e-02,\n",
       "        1.09474611e-02, -4.38798697e-03,  1.75880321e-03, -7.04967618e-04,\n",
       "        2.82566771e-04, -1.13259074e-04,  5.95004540e+00, -2.38491112e+00,\n",
       "        9.55925659e-01, -3.83156360e-01,  1.53577629e-01, -6.15573447e-02,\n",
       "        2.46735590e-02, -9.88971367e-03,  3.96401818e-03, -1.58886705e-03,\n",
       "        6.36853408e-04, -2.55265074e-04,  2.71001023e+01, -1.08623264e+01,\n",
       "        4.35386311e+00, -1.74512560e+00,  6.99485329e-01, -2.80369347e-01,\n",
       "        1.12378298e-01, -4.50437324e-02,  1.80545342e-02, -7.23666067e-03,\n",
       "        2.90061527e-03, -1.16263140e-03,  2.20046601e+00, -2.88199594e+00,\n",
       "        2.65516836e+00, -4.64250796e-01,  1.86082091e-01,  1.92541414e+00,\n",
       "        4.28250997e-01, -8.71652567e-01,  5.49377822e-01,  1.47979710e+00,\n",
       "        1.20686426e+00, -4.83738159e-01,  4.89389306e+00,  2.49841833e+00,\n",
       "        4.88857812e+00,  7.50548676e-01,  1.04591633e+01, -3.00226632e+00,\n",
       "        4.08337542e+00,  1.41632919e+01,  2.10830362e+01,  1.10094481e+01,\n",
       "        2.25671672e+01, -1.40154248e+01,  8.86769537e+00, -1.08043704e+01,\n",
       "        1.53306330e+01, -7.31486022e+00, -6.80406057e-02, -8.99272781e+00,\n",
       "        1.74486208e-01, -1.82993797e+00, -3.83665200e+01, -3.55918417e+01,\n",
       "       -9.45399472e+00,  8.81937229e+00, -1.00500144e+00,  3.48282703e+00,\n",
       "       -1.29159949e+01,  8.87019301e-01,  2.55446285e+00,  7.94611422e+00,\n",
       "        9.10501990e+00,  1.00705046e+01, -2.09964832e+01,  1.44958596e+01,\n",
       "        6.65973564e+00,  3.14062917e+00,  1.93911657e+01, -6.00241241e+00,\n",
       "        1.46059010e+01,  2.69256286e+01, -2.19123935e+01, -8.93702316e+00,\n",
       "       -1.36878415e+01,  2.44663927e+01, -1.45166768e+01,  1.36686084e+01,\n",
       "        2.14131640e+00,  6.14171255e+00,  1.36182644e+01,  2.54149539e+00,\n",
       "       -1.88386881e+01,  1.75209671e+01, -9.30279503e+00, -2.44123192e+00,\n",
       "        3.07850029e+00,  3.28606831e+00, -1.58712959e+00, -2.61638430e+01,\n",
       "       -4.40294721e+00,  2.61479961e+00,  2.82192990e+00, -9.91092548e-01,\n",
       "        4.65725204e+00,  1.11326934e+00, -1.14762232e+01,  2.64992665e+00,\n",
       "       -7.78214980e+00, -1.73207405e+01, -1.08746025e+00,  1.49158784e+01,\n",
       "        4.21382722e-01,  7.99110039e+00,  1.87769884e+01, -3.37623646e+00,\n",
       "       -1.34167290e+01,  2.89772472e+00, -1.45414728e+01, -3.36145283e+00,\n",
       "        1.37173454e+01,  4.37178151e+00, -4.62230770e+00,  2.32724191e-01,\n",
       "        3.65671895e+00, -1.99569465e+00, -6.87008100e+00, -3.99631805e+00,\n",
       "       -7.93818644e+00,  5.93180247e+00, -1.63975990e+01, -1.24747601e+00,\n",
       "        3.81001625e+00, -4.96713963e+00, -8.23905947e+00,  1.98239910e+00,\n",
       "       -8.12458985e+00, -2.08348288e+00,  6.75106485e-01, -5.75059776e+00,\n",
       "       -2.39503195e+00, -4.81001769e+00,  9.94796255e+00, -1.65736563e+00,\n",
       "       -9.57569083e+00,  7.63815081e+00, -2.30154149e+00, -2.90749075e+00,\n",
       "       -5.09461275e+00, -4.31796539e+00,  3.11073700e+00,  3.70314712e+00,\n",
       "        7.88569591e+00,  1.55923691e+00, -6.41497699e+00, -5.78733909e-01,\n",
       "        5.51196948e+00,  1.42067949e+00, -3.66944008e+00,  2.77079356e+00,\n",
       "        1.28994040e+01,  1.74963068e+00, -3.11291064e-01,  9.15477241e+00,\n",
       "       -5.45943731e+00, -1.52417356e+01, -1.68077188e+00, -4.27630908e+00,\n",
       "        1.19740402e+01,  3.53053717e+00, -5.95511817e+00, -7.48305559e+00,\n",
       "        5.57937586e+00,  5.77366151e+00,  1.77578748e+00,  4.08224706e-01,\n",
       "       -7.27362558e+00, -1.68456837e+00,  1.02521264e+00, -1.47092813e+00,\n",
       "        1.09580855e-01,  2.54607755e+00,  2.69475239e-01,  4.86198830e+00,\n",
       "       -2.09879353e+00, -3.25875666e+00,  8.30618247e+00,  8.73069650e+00,\n",
       "       -5.24945821e+00,  9.33410013e+00,  2.70868414e+00,  7.70429888e+00,\n",
       "        8.21194489e+00, -3.04615310e+01,  1.22196621e+01, -9.44791358e+00,\n",
       "        2.36934836e-01,  7.57503122e+00,  7.37582542e-02, -8.10956396e+00,\n",
       "        4.56049441e+00, -6.08794804e+00,  1.13601856e+01,  5.09658382e+00,\n",
       "        3.17717534e+00,  1.12765171e+01, -1.83988000e+00, -3.23253499e+00,\n",
       "        5.87567224e+00,  2.87148993e+01,  2.69042685e+00, -6.90838319e+00,\n",
       "        7.14903432e+00,  8.78450733e+00,  2.43689732e+01, -3.05762888e+00,\n",
       "        9.35565965e-01, -5.23549957e+01, -1.66549481e+01,  5.06567527e+00])"
      ]
     },
     "execution_count": 38,
     "metadata": {},
     "output_type": "execute_result"
    }
   ],
   "source": [
    "mod_res=model.resid()\n",
    "mod_res"
   ]
  },
  {
   "cell_type": "code",
   "execution_count": 39,
   "metadata": {},
   "outputs": [
    {
     "data": {
      "text/html": [
       "<div>\n",
       "<style scoped>\n",
       "    .dataframe tbody tr th:only-of-type {\n",
       "        vertical-align: middle;\n",
       "    }\n",
       "\n",
       "    .dataframe tbody tr th {\n",
       "        vertical-align: top;\n",
       "    }\n",
       "\n",
       "    .dataframe thead th {\n",
       "        text-align: right;\n",
       "    }\n",
       "</style>\n",
       "<table border=\"1\" class=\"dataframe\">\n",
       "  <thead>\n",
       "    <tr style=\"text-align: right;\">\n",
       "      <th></th>\n",
       "      <th>0</th>\n",
       "    </tr>\n",
       "    <tr>\n",
       "      <th>Month</th>\n",
       "      <th></th>\n",
       "    </tr>\n",
       "  </thead>\n",
       "  <tbody>\n",
       "    <tr>\n",
       "      <th>1991-01-11</th>\n",
       "      <td>34.760000</td>\n",
       "    </tr>\n",
       "    <tr>\n",
       "      <th>1991-01-12</th>\n",
       "      <td>-0.000885</td>\n",
       "    </tr>\n",
       "    <tr>\n",
       "      <th>1992-01-01</th>\n",
       "      <td>-1.659694</td>\n",
       "    </tr>\n",
       "    <tr>\n",
       "      <th>1992-01-02</th>\n",
       "      <td>0.650771</td>\n",
       "    </tr>\n",
       "    <tr>\n",
       "      <th>1992-01-03</th>\n",
       "      <td>-0.259935</td>\n",
       "    </tr>\n",
       "    <tr>\n",
       "      <th>...</th>\n",
       "      <td>...</td>\n",
       "    </tr>\n",
       "    <tr>\n",
       "      <th>2021-01-06</th>\n",
       "      <td>-3.057629</td>\n",
       "    </tr>\n",
       "    <tr>\n",
       "      <th>2021-01-07</th>\n",
       "      <td>0.935566</td>\n",
       "    </tr>\n",
       "    <tr>\n",
       "      <th>2021-01-08</th>\n",
       "      <td>-52.354996</td>\n",
       "    </tr>\n",
       "    <tr>\n",
       "      <th>2021-01-09</th>\n",
       "      <td>-16.654948</td>\n",
       "    </tr>\n",
       "    <tr>\n",
       "      <th>2021-01-10</th>\n",
       "      <td>5.065675</td>\n",
       "    </tr>\n",
       "  </tbody>\n",
       "</table>\n",
       "<p>360 rows × 1 columns</p>\n",
       "</div>"
      ],
      "text/plain": [
       "                    0\n",
       "Month                \n",
       "1991-01-11  34.760000\n",
       "1991-01-12  -0.000885\n",
       "1992-01-01  -1.659694\n",
       "1992-01-02   0.650771\n",
       "1992-01-03  -0.259935\n",
       "...               ...\n",
       "2021-01-06  -3.057629\n",
       "2021-01-07   0.935566\n",
       "2021-01-08 -52.354996\n",
       "2021-01-09 -16.654948\n",
       "2021-01-10   5.065675\n",
       "\n",
       "[360 rows x 1 columns]"
      ]
     },
     "execution_count": 39,
     "metadata": {},
     "output_type": "execute_result"
    }
   ],
   "source": [
    "mod_res1=pd.DataFrame(mod_res,index=df1.index)\n",
    "mod_res1"
   ]
  },
  {
   "cell_type": "code",
   "execution_count": 40,
   "metadata": {},
   "outputs": [
    {
     "data": {
      "text/plain": [
       "Text(0.5, 1.0, 'Histogram of residuals')"
      ]
     },
     "execution_count": 40,
     "metadata": {},
     "output_type": "execute_result"
    },
    {
     "data": {
      "image/png": "[encoded data removed]",
      "text/plain": [
       "<Figure size 432x288 with 1 Axes>"
      ]
     },
     "metadata": {
      "needs_background": "light"
     },
     "output_type": "display_data"
    }
   ],
   "source": [
    "plt.hist(mod_res1)\n",
    "plt.title('Histogram of residuals')"
   ]
  },
  {
   "cell_type": "code",
   "execution_count": 41,
   "metadata": {},
   "outputs": [
    {
     "data": {
      "text/html": [
       "<div>\n",
       "<style scoped>\n",
       "    .dataframe tbody tr th:only-of-type {\n",
       "        vertical-align: middle;\n",
       "    }\n",
       "\n",
       "    .dataframe tbody tr th {\n",
       "        vertical-align: top;\n",
       "    }\n",
       "\n",
       "    .dataframe thead th {\n",
       "        text-align: right;\n",
       "    }\n",
       "</style>\n",
       "<table border=\"1\" class=\"dataframe\">\n",
       "  <thead>\n",
       "    <tr style=\"text-align: right;\">\n",
       "      <th></th>\n",
       "      <th>0</th>\n",
       "    </tr>\n",
       "    <tr>\n",
       "      <th>Month</th>\n",
       "      <th></th>\n",
       "    </tr>\n",
       "  </thead>\n",
       "  <tbody>\n",
       "    <tr>\n",
       "      <th>1991-01-11</th>\n",
       "      <td>1.208258e+03</td>\n",
       "    </tr>\n",
       "    <tr>\n",
       "      <th>1991-01-12</th>\n",
       "      <td>7.832497e-07</td>\n",
       "    </tr>\n",
       "    <tr>\n",
       "      <th>1992-01-01</th>\n",
       "      <td>2.754585e+00</td>\n",
       "    </tr>\n",
       "    <tr>\n",
       "      <th>1992-01-02</th>\n",
       "      <td>4.235032e-01</td>\n",
       "    </tr>\n",
       "    <tr>\n",
       "      <th>1992-01-03</th>\n",
       "      <td>6.756632e-02</td>\n",
       "    </tr>\n",
       "  </tbody>\n",
       "</table>\n",
       "</div>"
      ],
      "text/plain": [
       "                       0\n",
       "Month                   \n",
       "1991-01-11  1.208258e+03\n",
       "1991-01-12  7.832497e-07\n",
       "1992-01-01  2.754585e+00\n",
       "1992-01-02  4.235032e-01\n",
       "1992-01-03  6.756632e-02"
      ]
     },
     "execution_count": 41,
     "metadata": {},
     "output_type": "execute_result"
    }
   ],
   "source": [
    "mod_sqe=pow(mod_res1,2) #squaring of errors\n",
    "mod_sqe.head()"
   ]
  },
  {
   "cell_type": "code",
   "execution_count": 42,
   "metadata": {},
   "outputs": [
    {
     "data": {
      "text/plain": [
       "0    66.707282\n",
       "dtype: float64"
      ]
     },
     "execution_count": 42,
     "metadata": {},
     "output_type": "execute_result"
    }
   ],
   "source": [
    "mod_mse=(mod_sqe.sum())/len(mod_sqe)\n",
    "mod_mse"
   ]
  },
  {
   "cell_type": "code",
   "execution_count": 43,
   "metadata": {},
   "outputs": [
    {
     "data": {
      "text/plain": [
       "8.167452627190782"
      ]
     },
     "execution_count": 43,
     "metadata": {},
     "output_type": "execute_result"
    }
   ],
   "source": [
    "mod_rmse=sqrt(mod_mse)\n",
    "mod_rmse"
   ]
  },
  {
   "cell_type": "code",
   "execution_count": 44,
   "metadata": {},
   "outputs": [
    {
     "data": {
      "text/plain": [
       "72.32580555555558"
      ]
     },
     "execution_count": 44,
     "metadata": {},
     "output_type": "execute_result"
    }
   ],
   "source": [
    "df1.Price.mean()"
   ]
  },
  {
   "cell_type": "code",
   "execution_count": 45,
   "metadata": {},
   "outputs": [
    {
     "data": {
      "text/plain": [
       "[<matplotlib.lines.Line2D at 0x1941769b670>]"
      ]
     },
     "execution_count": 45,
     "metadata": {},
     "output_type": "execute_result"
    },
    {
     "data": {
      "image/png": "[encoded data removed]",
      "text/plain": [
       "<Figure size 432x288 with 1 Axes>"
      ]
     },
     "metadata": {
      "needs_background": "light"
     },
     "output_type": "display_data"
    }
   ],
   "source": [
    "plt.plot(mod_res1)"
   ]
  },
  {
   "cell_type": "code",
   "execution_count": 46,
   "metadata": {},
   "outputs": [],
   "source": [
    "from statsmodels.graphics.tsaplots import plot_acf\n",
    "from statsmodels.graphics.tsaplots import plot_pacf"
   ]
  },
  {
   "cell_type": "code",
   "execution_count": 47,
   "metadata": {},
   "outputs": [
    {
     "data": {
      "image/png": "[encoded data removed]",
      "text/plain": [
       "<Figure size 432x288 with 1 Axes>"
      ]
     },
     "execution_count": 47,
     "metadata": {},
     "output_type": "execute_result"
    },
    {
     "data": {
      "image/png": "[encoded data removed]",
      "text/plain": [
       "<Figure size 432x288 with 1 Axes>"
      ]
     },
     "metadata": {
      "needs_background": "light"
     },
     "output_type": "display_data"
    }
   ],
   "source": [
    "plot_acf(mod_res1,lags=20,color='r',title='ironore_acf_autoarima')"
   ]
  },
  {
   "cell_type": "code",
   "execution_count": 48,
   "metadata": {},
   "outputs": [
    {
     "name": "stderr",
     "output_type": "stream",
     "text": [
      "C:\\Users\\saina\\anaconda3\\lib\\site-packages\\statsmodels\\graphics\\tsaplots.py:348: FutureWarning: The default method 'yw' can produce PACF values outside of the [-1,1] interval. After 0.13, the default will change tounadjusted Yule-Walker ('ywm'). You can use this method now by setting method='ywm'.\n",
      "  warnings.warn(\n"
     ]
    },
    {
     "data": {
      "image/png": "[encoded data removed]",
      "text/plain": [
       "<Figure size 432x288 with 1 Axes>"
      ]
     },
     "execution_count": 48,
     "metadata": {},
     "output_type": "execute_result"
    },
    {
     "data": {
      "image/png": "[encoded data removed]",
      "text/plain": [
       "<Figure size 432x288 with 1 Axes>"
      ]
     },
     "metadata": {
      "needs_background": "light"
     },
     "output_type": "display_data"
    }
   ],
   "source": [
    "plot_pacf(mod_res1,lags=20,color='r',title='ironore_pacf_autoarima')"
   ]
  },
  {
   "cell_type": "code",
   "execution_count": 49,
   "metadata": {},
   "outputs": [
    {
     "data": {
      "text/plain": [
       "array([124.94043582, 124.94043582, 124.94043582, 124.94043582,\n",
       "       124.94043582, 124.94043582, 124.94043582, 124.94043582,\n",
       "       124.94043582, 124.94043582, 124.94043582, 124.94043582,\n",
       "       124.94043582, 124.94043582, 124.94043582, 124.94043582,\n",
       "       124.94043582, 124.94043582, 124.94043582, 124.94043582,\n",
       "       124.94043582, 124.94043582, 124.94043582, 124.94043582])"
      ]
     },
     "execution_count": 49,
     "metadata": {},
     "output_type": "execute_result"
    }
   ],
   "source": [
    "mod_pred=model.predict(n_periods=24)\n",
    "mod_pred"
   ]
  },
  {
   "cell_type": "code",
   "execution_count": 50,
   "metadata": {},
   "outputs": [
    {
     "data": {
      "text/html": [
       "<div>\n",
       "<style scoped>\n",
       "    .dataframe tbody tr th:only-of-type {\n",
       "        vertical-align: middle;\n",
       "    }\n",
       "\n",
       "    .dataframe tbody tr th {\n",
       "        vertical-align: top;\n",
       "    }\n",
       "\n",
       "    .dataframe thead th {\n",
       "        text-align: right;\n",
       "    }\n",
       "</style>\n",
       "<table border=\"1\" class=\"dataframe\">\n",
       "  <thead>\n",
       "    <tr style=\"text-align: right;\">\n",
       "      <th></th>\n",
       "      <th>Price</th>\n",
       "    </tr>\n",
       "    <tr>\n",
       "      <th>Month</th>\n",
       "      <th></th>\n",
       "    </tr>\n",
       "  </thead>\n",
       "  <tbody>\n",
       "    <tr>\n",
       "      <th>2021-01-06</th>\n",
       "      <td>214.43</td>\n",
       "    </tr>\n",
       "    <tr>\n",
       "      <th>2021-01-07</th>\n",
       "      <td>214.14</td>\n",
       "    </tr>\n",
       "    <tr>\n",
       "      <th>2021-01-08</th>\n",
       "      <td>162.16</td>\n",
       "    </tr>\n",
       "    <tr>\n",
       "      <th>2021-01-09</th>\n",
       "      <td>124.52</td>\n",
       "    </tr>\n",
       "    <tr>\n",
       "      <th>2021-01-10</th>\n",
       "      <td>122.91</td>\n",
       "    </tr>\n",
       "  </tbody>\n",
       "</table>\n",
       "</div>"
      ],
      "text/plain": [
       "             Price\n",
       "Month             \n",
       "2021-01-06  214.43\n",
       "2021-01-07  214.14\n",
       "2021-01-08  162.16\n",
       "2021-01-09  124.52\n",
       "2021-01-10  122.91"
      ]
     },
     "execution_count": 50,
     "metadata": {},
     "output_type": "execute_result"
    }
   ],
   "source": [
    "df1.tail()"
   ]
  },
  {
   "cell_type": "code",
   "execution_count": null,
   "metadata": {},
   "outputs": [],
   "source": []
  },
  {
   "cell_type": "code",
   "execution_count": 51,
   "metadata": {},
   "outputs": [],
   "source": [
    "mod_pred=pd.DataFrame(mod_pred,index=pd.date_range(start='2021-02-10',periods=24,freq='MS'))"
   ]
  },
  {
   "cell_type": "code",
   "execution_count": 52,
   "metadata": {},
   "outputs": [
    {
     "data": {
      "image/png": "[encoded data removed]",
      "text/plain": [
       "<Figure size 432x288 with 1 Axes>"
      ]
     },
     "metadata": {
      "needs_background": "light"
     },
     "output_type": "display_data"
    }
   ],
   "source": [
    "plt.plot(df1)\n",
    "plt.plot(mod_pred)\n",
    "plt.legend(['Actual','Forecast - Auto Arima'],bbox_to_anchor=(1,1),loc=4)\n",
    "plt.show()"
   ]
  },
  {
   "cell_type": "code",
   "execution_count": null,
   "metadata": {},
   "outputs": [],
   "source": []
  },
  {
   "cell_type": "code",
   "execution_count": null,
   "metadata": {},
   "outputs": [],
   "source": []
  },
  {
   "cell_type": "code",
   "execution_count": null,
   "metadata": {},
   "outputs": [],
   "source": []
  },
  {
   "cell_type": "code",
   "execution_count": null,
   "metadata": {},
   "outputs": [],
   "source": []
  },
  {
   "cell_type": "code",
   "execution_count": null,
   "metadata": {},
   "outputs": [],
   "source": []
  },
  {
   "cell_type": "code",
   "execution_count": 53,
   "metadata": {},
   "outputs": [],
   "source": [
    "# to make data stationary there are methods called 1) differencing, 2) rolling window, 3) Transformation"
   ]
  },
  {
   "cell_type": "code",
   "execution_count": 54,
   "metadata": {},
   "outputs": [],
   "source": [
    "# Differencing is a method of inducing a lag in the data which will remove the seasonal or cyclical patterns from the data"
   ]
  },
  {
   "cell_type": "code",
   "execution_count": null,
   "metadata": {},
   "outputs": [],
   "source": []
  }
 ],
 "metadata": {
  "kernelspec": {
   "display_name": "Python 3",
   "language": "python",
   "name": "python3"
  },
  "language_info": {
   "codemirror_mode": {
    "name": "ipython",
    "version": 3
   },
   "file_extension": ".py",
   "mimetype": "text/x-python",
   "name": "python",
   "nbconvert_exporter": "python",
   "pygments_lexer": "ipython3",
   "version": "3.8.5"
  }
 },
 "nbformat": 4,
 "nbformat_minor": 4
}
